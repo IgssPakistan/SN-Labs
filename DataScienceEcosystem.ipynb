{
 "cells": [
  {
   "cell_type": "markdown",
   "id": "637a5069-52df-40e4-82ec-bcd3b9aa174c",
   "metadata": {
    "tags": []
   },
   "source": [
    "#Data Science Tools and Ecosystem"
   ]
  },
  {
   "cell_type": "markdown",
   "id": "41353c6c-09c9-4db9-a15e-606cde69ec98",
   "metadata": {
    "tags": []
   },
   "source": [
    "In this notebook, Data Science Tools and Ecosystem are summarized\n"
   ]
  },
  {
   "cell_type": "markdown",
   "id": "19f98259-19cf-4220-9f47-69fef65c3cea",
   "metadata": {},
   "source": [
    "**Objectives:**  \n",
    "- List popular languages for Data Science\n",
    "- List popular libraries for Data Science\n",
    "- List popular toold Data Science"
   ]
  },
  {
   "cell_type": "markdown",
   "id": "1ce7ade8-0cce-4934-8053-153fcf9da31f",
   "metadata": {},
   "source": [
    "1. Python\n",
    "2. R\n",
    "3. SQL\n",
    "4. SCALA"
   ]
  },
  {
   "cell_type": "markdown",
   "id": "4df22ade-f2d3-4c26-bf0c-37ea400c2a0e",
   "metadata": {},
   "source": [
    "1. NumPy\n",
    "2. SciKit Learn\n",
    "3. SciPy\n",
    "4. Matplotlib"
   ]
  },
  {
   "cell_type": "markdown",
   "id": "d37a1130-28c3-438f-a939-0b2213b90586",
   "metadata": {},
   "source": [
    "| Data Science Tools|\n",
    "| -----------------|\n",
    "| Apache Spark|\n",
    "| Jupiter|\n",
    "| Tensor Flow|\n",
    "| TR Studio|"
   ]
  },
  {
   "cell_type": "markdown",
   "id": "833e2940-22d6-4b11-bfcc-1b7463ea7be1",
   "metadata": {
    "tags": []
   },
   "source": [
    "### Below are a few examples of evaluating arithmetic expressions in Python"
   ]
  },
  {
   "cell_type": "code",
   "execution_count": 10,
   "id": "75e84117-1f7c-441f-b2b0-b7cae2056042",
   "metadata": {
    "tags": []
   },
   "outputs": [
    {
     "data": {
      "text/plain": [
       "17"
      ]
     },
     "execution_count": 10,
     "metadata": {},
     "output_type": "execute_result"
    }
   ],
   "source": [
    "(3*4)+5"
   ]
  },
  {
   "cell_type": "code",
   "execution_count": 11,
   "id": "18350b92-82e3-4949-8094-5d5eb9d48c4c",
   "metadata": {
    "tags": []
   },
   "outputs": [
    {
     "data": {
      "text/plain": [
       "3.3333333333333335"
      ]
     },
     "execution_count": 11,
     "metadata": {},
     "output_type": "execute_result"
    }
   ],
   "source": [
    "#This will convert 200 minutes to hours by diving by 60\n",
    "200/60"
   ]
  },
  {
   "cell_type": "markdown",
   "id": "8138b4be-4ea9-45d2-a2d5-883c13850065",
   "metadata": {},
   "source": [
    "Author\n",
    "## Umair Abdul Samad"
   ]
  }
 ],
 "metadata": {
  "kernelspec": {
   "display_name": "Python",
   "language": "python",
   "name": "conda-env-python-py"
  },
  "language_info": {
   "codemirror_mode": {
    "name": "ipython",
    "version": 3
   },
   "file_extension": ".py",
   "mimetype": "text/x-python",
   "name": "python",
   "nbconvert_exporter": "python",
   "pygments_lexer": "ipython3",
   "version": "3.7.12"
  }
 },
 "nbformat": 4,
 "nbformat_minor": 5
}
